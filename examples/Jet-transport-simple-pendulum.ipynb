{
 "cells": [
  {
   "cell_type": "markdown",
   "metadata": {},
   "source": [
    "\n",
    "# Jet transport for the simple pendulum"
   ]
  },
  {
   "cell_type": "markdown",
   "metadata": {},
   "source": [
    "In this notebook we will use `TaylorSeries.jl` and `TaylorIntegration.jl` in order to integrate the the simple pendulum, defined by the Hamiltonian:\n",
    "\n",
    "$$\n",
    "H(x, p) = \\frac{1}{2}p^2-\\cos x \n",
    "$$\n",
    "\n",
    "The corresponding equations of motion are:\n",
    "\n",
    "$$\n",
    "    \\begin{align}\n",
    "        \\dot x&=p \\\\\n",
    "        \\dot p&=-\\sin x\n",
    "    \\end{align}\n",
    "$$\n",
    "\n",
    "We will integrate this problem for the initial condition $x(t_0)=x_0$, $p(t_0)=p_0$, as well as a neighbourhood $U_0$ around this initial condition, using the jet transport technique. For simplicity, we will take $p_0=0$, and $t_0=0$. Furthermore, we will choose $x_0$ such that the pendulum librates; that is, we will choose the numerical value of the energy, $E=H(x_0,p_0)=-\\cos x_0$, such that the pendulum's motion in phase space is \"below\" (inside) the region bounded by the separatrix. Then, for the initial conditions given above, the librational period $T$ of the pendulum is\n",
    "\n",
    "$$\n",
    "T=\\frac{4}{\\sqrt{2}}\\int_0^{x_0}\\frac{dx}{\\sqrt{\\cos x_0-\\cos x}}\n",
    "$$\n",
    "\n",
    "Or else, in terms of the complete elliptic integral of the first kind, $K$:\n",
    "\n",
    "$$\n",
    "T=4K(\\sin(x_0/2))\n",
    "$$\n",
    "\n",
    "The jet transport technique consists in considering the neighbourhood $U_0$ as being parametrized by the sum $q_0+\\xi$, where $q_0=(x_0,p_0)$ represents the coordinates of the initial condition in phase space, and $\\xi=(\\xi_1,\\xi_2)$ represents an small variation with respect to this initial condition. We re-interpret each component of the sum $q_0+\\xi$ as a multivariate polynomial in the variables $\\xi_1$ and $\\xi_2$, and then we integrate these multivariate polynomials in time using Taylor's method. "
   ]
  },
  {
   "cell_type": "markdown",
   "metadata": {},
   "source": [
    "The packages we need to load are:"
   ]
  },
  {
   "cell_type": "code",
   "execution_count": null,
   "metadata": {},
   "outputs": [],
   "source": [
    "using TaylorIntegration, Elliptic"
   ]
  },
  {
   "cell_type": "markdown",
   "metadata": {},
   "source": [
    "The Hamiltonian for the simple pendulum is:"
   ]
  },
  {
   "cell_type": "code",
   "execution_count": null,
   "metadata": {},
   "outputs": [],
   "source": [
    "H(x) = 0.5x[2].^2-cos(x[1])"
   ]
  },
  {
   "cell_type": "markdown",
   "metadata": {},
   "source": [
    "The LHS of the equations of motion is:"
   ]
  },
  {
   "cell_type": "code",
   "execution_count": null,
   "metadata": {},
   "outputs": [],
   "source": [
    "function pendulum!(t, x, dx)\n",
    "    dx[1] = x[2] \n",
    "    dx[2] = -sin(x[1])\n",
    "end"
   ]
  },
  {
   "cell_type": "markdown",
   "metadata": {},
   "source": [
    "We must setup the the `TaylorN` variables necessary to perform the jet transport.; `varorder` represents the order of expansion in the variations $\\xi$."
   ]
  },
  {
   "cell_type": "code",
   "execution_count": null,
   "metadata": {},
   "outputs": [],
   "source": [
    "const varorder = 8\n",
    "p = set_variables(\"ξ\", numvars=2, order=varorder)"
   ]
  },
  {
   "cell_type": "markdown",
   "metadata": {},
   "source": [
    "The nominal initial condition is:"
   ]
  },
  {
   "cell_type": "code",
   "execution_count": null,
   "metadata": {},
   "outputs": [],
   "source": [
    "q0 = [1.3, 0.0]"
   ]
  },
  {
   "cell_type": "markdown",
   "metadata": {},
   "source": [
    "The initial value of the energy is:"
   ]
  },
  {
   "cell_type": "code",
   "execution_count": null,
   "metadata": {},
   "outputs": [],
   "source": [
    "H0 = H(q0)"
   ]
  },
  {
   "cell_type": "markdown",
   "metadata": {},
   "source": [
    "The parametrization of the neighbourhood $U_0$ is represented by the following array of `TaylorN`'s:"
   ]
  },
  {
   "cell_type": "code",
   "execution_count": null,
   "metadata": {},
   "outputs": [],
   "source": [
    "q0TN = q0 + p"
   ]
  },
  {
   "cell_type": "markdown",
   "metadata": {},
   "source": [
    "To get a feel of how the jet transport technique works, we will evaluate the\n",
    "Hamiltonian at $q_0+\\xi$ in order to obtain the 8-th order Taylor expansion of\n",
    "the Hamiltonian wrt the variations $\\xi$, around the initial condition $q_0$:"
   ]
  },
  {
   "cell_type": "code",
   "execution_count": null,
   "metadata": {
    "scrolled": true
   },
   "outputs": [],
   "source": [
    "H(q0TN)"
   ]
  },
  {
   "cell_type": "markdown",
   "metadata": {},
   "source": [
    "Below, we setup some parameters for the Taylor integration. In particular, we will use a method of `taylorinteg` which returns the solution only at `t0`, `t0+integstep`, `t0+2integstep`,...,`tmax`, where `t0` and `tmax` are the initial and final times of integration, whereas `integstep` is the time interval between successive evaluations of the solution vector, chosen by the user. In this case, we are choosing `integstep` to be $\\frac{1}{8}$th of the period of the pendulum."
   ]
  },
  {
   "cell_type": "code",
   "execution_count": null,
   "metadata": {},
   "outputs": [],
   "source": [
    "const order = 28 #the order of the Taylor expansion wrt time\n",
    "const abstol = 1e-20 #the absolute tolerance of the integration\n",
    "const T = 4*Elliptic.K(sin(q0[1]/2)^2) #the librational period\n",
    "const t0 = 0.0 #the initial time\n",
    "const tmax = 6T #the final time\n",
    "const integstep = T/8 #the time interval between successive evaluations of the solution vector"
   ]
  },
  {
   "cell_type": "markdown",
   "metadata": {},
   "source": [
    "Then, we perform a Taylor integration over the initial condition `x0TN`:"
   ]
  },
  {
   "cell_type": "code",
   "execution_count": null,
   "metadata": {},
   "outputs": [],
   "source": [
    "#this is a \"warmup lap\"\n",
    "@time xv = taylorinteg(pendulum!, q0TN, t0:integstep:tmax, order, abstol, maxsteps=1);"
   ]
  },
  {
   "cell_type": "code",
   "execution_count": null,
   "metadata": {},
   "outputs": [],
   "source": [
    "tv = t0:integstep:tmax;\n",
    "@time xv = taylorinteg(pendulum!, q0TN, t0:integstep:tmax, order, abstol);"
   ]
  },
  {
   "cell_type": "markdown",
   "metadata": {},
   "source": [
    "Note that we the integration above \"works\" for any initial neighborhood $U_0$ around the nominal initial condition $x_0$, of sufficiently small radius.\n",
    "\n",
    "We will consider the particular case where $U_0$ is a disk of radius $r$, centered at $q_0$; that is $U_0=\\{ q_0+\\xi:\\xi=(r\\cos\\phi,r\\sin\\phi); \\phi\\in[0,2\\pi) \\}$ for a given radius $r>0$. We will denote by $U_t$ the propagation of the initial neighbourhood $U_0$ evaluated at time $t$. Also, we denote by $q(t)$ the coordinates of the nominal solution at time $t$: $q(t)=(x(t),p(t))$. Likewise, we will denote the propagation at time $t$ of a given initial variation $\\xi_0$ by $\\xi(t)$. Then, we can compute the propagation of the boundary $\\partial U_t$ of the neighbourhood $U_t$."
   ]
  },
  {
   "cell_type": "code",
   "execution_count": null,
   "metadata": {},
   "outputs": [],
   "source": [
    "polar2cart(r, ϕ) = [r*cos(ϕ), r*sin(ϕ)]\n",
    "r = 0.05 #the radius of the neighbourhood\n",
    "ϕ = 0.0:0.1:(2π+0.1) #the values of the angle\n",
    "ξv = polar2cart.(r, ϕ);"
   ]
  },
  {
   "cell_type": "markdown",
   "metadata": {},
   "source": [
    "Evaluate the jet at $\\partial U_{x(t)}$ (the boundary of $U_{x(t)}$) at each value of the solution vector `xv`. We organize these values such that we can plot them later:"
   ]
  },
  {
   "cell_type": "code",
   "execution_count": null,
   "metadata": {},
   "outputs": [],
   "source": [
    "@time xjet_plot = map(λ->λ.(ξv), xv[:,1])\n",
    "@time pjet_plot = map(λ->λ.(ξv), xv[:,2]);"
   ]
  },
  {
   "cell_type": "markdown",
   "metadata": {},
   "source": [
    "Evaluate the jet at the nominal solution, which corresponds to $\\xi=(0,0)$, at each value of the solution vector `xv`:"
   ]
  },
  {
   "cell_type": "code",
   "execution_count": null,
   "metadata": {},
   "outputs": [],
   "source": [
    "x_nom = xv[:,1]()\n",
    "p_nom = xv[:,2]();"
   ]
  },
  {
   "cell_type": "markdown",
   "metadata": {},
   "source": [
    "Now, we plot the nominal solution (black dots), as well as the evolution of the neighbourhood $U_0$ (in colors), each $\\frac{1}{8}$th of a period. The initial condition corresponds to the black dot situated at $q_0=(1.3,0)$"
   ]
  },
  {
   "cell_type": "code",
   "execution_count": null,
   "metadata": {},
   "outputs": [],
   "source": [
    "using Plots, LaTeXStrings\n",
    "gr()"
   ]
  },
  {
   "cell_type": "code",
   "execution_count": null,
   "metadata": {
    "scrolled": false
   },
   "outputs": [],
   "source": [
    "plot(\n",
    "    xjet_plot,\n",
    "    pjet_plot,\n",
    "    xaxis=(L\"$x$\",),\n",
    "    yaxis=(L\"$p$\",),\n",
    "    # title=\"Simple pendulum phase space\",\n",
    "    leg=false,\n",
    "    aspect_ratio=1.0\n",
    ")\n",
    "scatter!(\n",
    "    x_nom,\n",
    "    p_nom, \n",
    "    color=:black,\n",
    "    m=(1,2.8,stroke(0))\n",
    ")\n",
    "#savefig(\"pendulum.pdf\")"
   ]
  },
  {
   "cell_type": "code",
   "execution_count": null,
   "metadata": {},
   "outputs": [],
   "source": []
  }
 ],
 "metadata": {
  "kernelspec": {
   "display_name": "Julia 1.0.1",
   "language": "julia",
   "name": "julia-1.0"
  },
  "language_info": {
   "file_extension": ".jl",
   "mimetype": "application/julia",
   "name": "julia",
   "version": "1.0.1"
  }
 },
 "nbformat": 4,
 "nbformat_minor": 1
}
